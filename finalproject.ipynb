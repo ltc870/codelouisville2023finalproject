{
 "cells": [
  {
   "cell_type": "markdown",
   "metadata": {},
   "source": [
    "# Code Louisville Final Project\n",
    "\n",
    "## Investigating The Correlation Between Violence and Greenery/Green Space in Louisville, Ky Neighborhoods"
   ]
  }
 ],
 "metadata": {
  "language_info": {
   "name": "python"
  }
 },
 "nbformat": 4,
 "nbformat_minor": 2
}
